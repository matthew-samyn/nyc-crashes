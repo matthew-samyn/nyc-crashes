{
 "cells": [
  {
   "cell_type": "markdown",
   "metadata": {
    "collapsed": true,
    "pycharm": {
     "name": "#%% md\n"
    }
   },
   "source": [
    "Importing necessary libraries"
   ]
  },
  {
   "cell_type": "code",
   "execution_count": 19,
   "outputs": [],
   "source": [
    "import pandas as pd\n",
    "import numpy as np"
   ],
   "metadata": {
    "collapsed": false,
    "pycharm": {
     "name": "#%%\n"
    }
   }
  },
  {
   "cell_type": "markdown",
   "source": [
    "Setting up DataFrame."
   ],
   "metadata": {
    "collapsed": false
   }
  },
  {
   "cell_type": "code",
   "execution_count": 20,
   "outputs": [
    {
     "name": "stdout",
     "output_type": "stream",
     "text": [
      "(100000, 29)\n"
     ]
    }
   ],
   "source": [
    "nyc_crashes = pd.read_csv(\"original-crashes.csv\")\n",
    "print(nyc_crashes.shape)"
   ],
   "metadata": {
    "collapsed": false,
    "pycharm": {
     "name": "#%%\n"
    }
   }
  },
  {
   "cell_type": "markdown",
   "source": [
    "Dropping columns.\n",
    "Keeping column contributing_factor_vehicle_1"
   ],
   "metadata": {
    "collapsed": false
   }
  },
  {
   "cell_type": "code",
   "execution_count": 21,
   "outputs": [],
   "source": [
    "to_drop = \\\n",
    "    [\"borough\",\"zip_code\",\"location\",\"on_street_name\",\n",
    "     \"off_street_name\",\"cross_street_name\", \"number_of_pedestrians_injured\",\n",
    "     \"number_of_pedestrians_killed\", \"number_of_cyclist_injured\",\n",
    "     \"number_of_cyclist_killed\", \"number_of_motorist_injured\",\n",
    "     \"number_of_motorist_killed\",\n",
    "     \"contributing_factor_vehicle_2\", \"contributing_factor_vehicle_3\",\n",
    "     \"contributing_factor_vehicle_4\",\"contributing_factor_vehicle_5\",\n",
    "     \"collision_id\",\"vehicle_type_code1\",\"vehicle_type_code2\",\n",
    "     \"vehicle_type_code_3\",\"vehicle_type_code_4\",\"vehicle_type_code_5\"]\n",
    "\n",
    "nyc_crashes = nyc_crashes.drop(columns=to_drop)"
   ],
   "metadata": {
    "collapsed": false,
    "pycharm": {
     "name": "#%%\n"
    }
   }
  },
  {
   "cell_type": "markdown",
   "source": [
    "Exploring DataFrame \"nyc_crashes\""
   ],
   "metadata": {
    "collapsed": false
   }
  },
  {
   "cell_type": "code",
   "execution_count": 22,
   "outputs": [
    {
     "name": "stdout",
     "output_type": "stream",
     "text": [
      "Index(['crash_date', 'crash_time', 'latitude', 'longitude',\n",
      "       'number_of_persons_injured', 'number_of_persons_killed',\n",
      "       'contributing_factor_vehicle_1'],\n",
      "      dtype='object')\n",
      "crash_date                          0\n",
      "crash_time                          0\n",
      "latitude                         8035\n",
      "longitude                        8035\n",
      "number_of_persons_injured           0\n",
      "number_of_persons_killed            0\n",
      "contributing_factor_vehicle_1     371\n",
      "dtype: int64\n",
      "crash_date                        object\n",
      "crash_time                        object\n",
      "latitude                         float64\n",
      "longitude                        float64\n",
      "number_of_persons_injured          int64\n",
      "number_of_persons_killed           int64\n",
      "contributing_factor_vehicle_1     object\n",
      "dtype: object\n"
     ]
    }
   ],
   "source": [
    "print(nyc_crashes.columns)\n",
    "print(nyc_crashes.isna().sum())\n",
    "print(nyc_crashes.dtypes)"
   ],
   "metadata": {
    "collapsed": false,
    "pycharm": {
     "name": "#%%\n"
    }
   }
  },
  {
   "cell_type": "code",
   "execution_count": 23,
   "outputs": [
    {
     "name": "stdout",
     "output_type": "stream",
     "text": [
      "                crash_date crash_time   latitude  longitude  number_of_persons_injured  number_of_persons_killed   contributing_factor_vehicle_1\n",
      "0  2017-04-18T00:00:00.000      23:10  40.536728 -74.193344                          0                         0  Driver Inattention/Distraction\n"
     ]
    }
   ],
   "source": [
    "print(nyc_crashes.head(1).to_string())"
   ],
   "metadata": {
    "collapsed": false,
    "pycharm": {
     "name": "#%%\n"
    }
   }
  },
  {
   "cell_type": "markdown",
   "source": [
    "Feature slicing crash_date into [\"day\", \"month\", \"year\"]"
   ],
   "metadata": {
    "collapsed": false
   }
  },
  {
   "cell_type": "code",
   "execution_count": 24,
   "outputs": [
    {
     "name": "stdout",
     "output_type": "stream",
     "text": [
      "                 day          month           year\n",
      "count  100000.000000  100000.000000  100000.000000\n",
      "mean       16.336260       7.022990    2019.378560\n",
      "std         8.959698       1.828326       0.779332\n",
      "min         1.000000       2.000000    2013.000000\n",
      "25%         8.000000       6.000000    2019.000000\n",
      "50%        17.000000       7.000000    2020.000000\n",
      "75%        24.000000       8.000000    2020.000000\n",
      "max        31.000000      12.000000    2020.000000\n"
     ]
    }
   ],
   "source": [
    "# Function for the apply-method\n",
    "def splitting_date(date):\n",
    "    date = date.split(sep=\"T\")\n",
    "    date_lst = date[0].split(sep=\"-\")\n",
    "    day = int(date_lst[2])\n",
    "    month = int(date_lst[1])\n",
    "    year = int(date_lst[0])\n",
    "    return day, month, year\n",
    "\n",
    "nyc_crashes[\"day\"], nyc_crashes[\"month\"], nyc_crashes[\"year\"] \\\n",
    "    = zip(*nyc_crashes[\"crash_date\"].apply(lambda x: splitting_date(x)))\n",
    "\n",
    "# Checking if the new columns have the correct min-max\n",
    "print(nyc_crashes[[\"day\",\"month\",\"year\"]].describe())\n",
    "\n",
    "# Dropping \"crash_date\" column.\n",
    "nyc_crashes = nyc_crashes.drop(columns=[\"crash_date\"])\n",
    "\n",
    "# Bringing new columns to the front\n",
    "cols_to_move = [\"day\", \"month\",\"year\"]\n",
    "nyc_crashes = nyc_crashes[cols_to_move + [col for col in nyc_crashes.columns if col not in cols_to_move]]"
   ],
   "metadata": {
    "collapsed": false,
    "pycharm": {
     "name": "#%%\n"
    }
   }
  },
  {
   "cell_type": "markdown",
   "source": [
    "\"crash_time\" to type: int.\n",
    "Keeping just the hour."
   ],
   "metadata": {
    "collapsed": false
   }
  },
  {
   "cell_type": "code",
   "execution_count": 25,
   "outputs": [
    {
     "name": "stdout",
     "output_type": "stream",
     "text": [
      "17    7128\n",
      "16    7033\n",
      "14    6723\n",
      "15    6302\n",
      "18    6150\n",
      "13    5978\n",
      "12    5524\n",
      "11    5041\n",
      "19    4878\n",
      "10    4670\n",
      "9     4545\n",
      "8     4405\n",
      "20    4255\n",
      "0     4139\n",
      "21    3927\n",
      "22    3639\n",
      "23    3151\n",
      "7     2832\n",
      "6     2127\n",
      "1     2024\n",
      "2     1549\n",
      "5     1384\n",
      "3     1327\n",
      "4     1269\n",
      "Name: crash_time, dtype: int64\n"
     ]
    }
   ],
   "source": [
    "nyc_crashes[\"crash_time\"] \\\n",
    "    = nyc_crashes[\"crash_time\"].apply(lambda x: int(x.split(sep=\":\")[0]))\n",
    "print(nyc_crashes.crash_time.value_counts())"
   ],
   "metadata": {
    "collapsed": false,
    "pycharm": {
     "name": "#%%\n"
    }
   }
  },
  {
   "cell_type": "markdown",
   "source": [
    "Checking for rows that contains NaN's."
   ],
   "metadata": {
    "collapsed": false
   }
  },
  {
   "cell_type": "code",
   "execution_count": 26,
   "outputs": [
    {
     "name": "stdout",
     "output_type": "stream",
     "text": [
      "day                                 0\n",
      "month                               0\n",
      "year                                0\n",
      "crash_time                          0\n",
      "latitude                         8035\n",
      "longitude                        8035\n",
      "number_of_persons_injured           0\n",
      "number_of_persons_killed            0\n",
      "contributing_factor_vehicle_1     371\n",
      "dtype: int64\n"
     ]
    }
   ],
   "source": [
    "print(nyc_crashes.isna().sum())"
   ],
   "metadata": {
    "collapsed": false,
    "pycharm": {
     "name": "#%%\n"
    }
   }
  },
  {
   "cell_type": "markdown",
   "source": [
    "Dropping rows where the columns \"longitude\", and \"latitude\" contain NaN\"s."
   ],
   "metadata": {
    "collapsed": false
   }
  },
  {
   "cell_type": "code",
   "execution_count": 27,
   "outputs": [],
   "source": [
    "nyc_crashes = nyc_crashes.dropna(subset=[\"latitude\",\"longitude\"],how=\"all\")"
   ],
   "metadata": {
    "collapsed": false,
    "pycharm": {
     "name": "#%%\n"
    }
   }
  },
  {
   "cell_type": "markdown",
   "source": [
    "Dropping rows where the columns \"longitude\", and \"latitude\" contain same values."
   ],
   "metadata": {
    "collapsed": false
   }
  },
  {
   "cell_type": "code",
   "execution_count": 28,
   "outputs": [
    {
     "name": "stdout",
     "output_type": "stream",
     "text": [
      "day                                0\n",
      "month                              0\n",
      "year                               0\n",
      "crash_time                         0\n",
      "latitude                           0\n",
      "longitude                          0\n",
      "number_of_persons_injured          0\n",
      "number_of_persons_killed           0\n",
      "contributing_factor_vehicle_1    355\n",
      "dtype: int64\n",
      "(91965, 9)\n",
      "(169, 9)\n",
      "(169, 9)\n",
      "(91796, 9)\n"
     ]
    }
   ],
   "source": [
    "print(nyc_crashes.isna().sum())\n",
    "print(nyc_crashes.shape)\n",
    "print(nyc_crashes[nyc_crashes[\"longitude\"] == 0].shape)\n",
    "print(nyc_crashes[nyc_crashes[\"latitude\"] == 0].shape)\n",
    "nyc_crashes = nyc_crashes[nyc_crashes[\"longitude\"] != nyc_crashes[\"latitude\"]]\n",
    "print(nyc_crashes.shape)"
   ],
   "metadata": {
    "collapsed": false,
    "pycharm": {
     "name": "#%%\n"
    }
   }
  },
  {
   "cell_type": "markdown",
   "source": [
    "Getting to know the column \"contributing_factor_vehicle_1\""
   ],
   "metadata": {
    "collapsed": false,
    "pycharm": {
     "name": "#%% md\n"
    }
   }
  },
  {
   "cell_type": "code",
   "execution_count": 29,
   "outputs": [
    {
     "name": "stdout",
     "output_type": "stream",
     "text": [
      "Index(['day', 'month', 'year', 'crash_time', 'latitude', 'longitude',\n",
      "       'number_of_persons_injured', 'number_of_persons_killed',\n",
      "       'contributing_factor_vehicle_1'],\n",
      "      dtype='object')\n",
      "['Driver Inattention/Distraction', 'Unspecified', 'Following Too Closely', 'Failure to Yield Right-of-Way', 'Backing Unsafely', 'Passing or Lane Usage Improper', 'Passing Too Closely', 'Other Vehicular', 'Unsafe Speed', 'Unsafe Lane Changing', 'Traffic Control Disregarded', 'Turning Improperly', 'Driver Inexperience', 'Reaction to Uninvolved Vehicle', 'Alcohol Involvement', 'View Obstructed/Limited', 'Pedestrian/Bicyclist/Other Pedestrian Error/Confusion', 'Aggressive Driving/Road Rage', 'Oversized Vehicle', 'Pavement Slippery', 'Brakes Defective', 'Fell Asleep', 'Passenger Distraction', 'Obstruction/Debris', 'Outside Car Distraction', 'Steering Failure', 'Tire Failure/Inadequate', 'Lost Consciousness', 'Illnes', 'Pavement Defective', 'Glare', 'Fatigued/Drowsy', 'Failure to Keep Right', 'Animals Action', 'Driverless/Runaway Vehicle', 'Drugs (illegal)', 'Accelerator Defective', 'Traffic Control Device Improper/Non-Working', 'Cell Phone (hand-Held)', 'Lane Marking Improper/Inadequate', 'Physical Disability', 'Tow Hitch Defective', 'Using On Board Navigation Device', 'Other Lighting Defects', 'Prescription Medication', 'Eating or Drinking', 'Headlights Defective', 'Vehicle Vandalism', 'Tinted Windows', 'Other Electronic Device', 'Cell Phone (hands-free)', 'Shoulders Defective/Improper', 'Listening/Using Headphones', 'Windshield Inadequate']\n"
     ]
    }
   ],
   "source": [
    "print(nyc_crashes.columns)\n",
    "factor_lst = nyc_crashes[\"contributing_factor_vehicle_1\"].value_counts().index.to_list()\n",
    "print(factor_lst)"
   ],
   "metadata": {
    "collapsed": false,
    "pycharm": {
     "name": "#%%\n"
    }
   }
  },
  {
   "cell_type": "markdown",
   "source": [
    "Removing rows containing category \"unspecified\"\n"
   ],
   "metadata": {
    "collapsed": false,
    "pycharm": {
     "name": "#%% md\n"
    }
   }
  },
  {
   "cell_type": "code",
   "execution_count": 30,
   "outputs": [
    {
     "name": "stdout",
     "output_type": "stream",
     "text": [
      "Driver Inattention/Distraction\n",
      "Following Too Closely\n",
      "Failure to Yield Right-of-Way\n",
      "Backing Unsafely\n",
      "Passing or Lane Usage Improper\n",
      "Passing Too Closely\n",
      "Other Vehicular\n",
      "Unsafe Speed\n",
      "Unsafe Lane Changing\n",
      "Traffic Control Disregarded\n",
      "Turning Improperly\n",
      "Driver Inexperience\n",
      "Reaction to Uninvolved Vehicle\n",
      "Alcohol Involvement\n",
      "View Obstructed/Limited\n",
      "Pedestrian/Bicyclist/Other Pedestrian Error/Confusion\n",
      "Aggressive Driving/Road Rage\n",
      "Oversized Vehicle\n",
      "Pavement Slippery\n",
      "Brakes Defective\n",
      "Fell Asleep\n",
      "Passenger Distraction\n",
      "Obstruction/Debris\n",
      "Outside Car Distraction\n",
      "Steering Failure\n",
      "Tire Failure/Inadequate\n",
      "Lost Consciousness\n",
      "Illnes\n",
      "Pavement Defective\n",
      "Glare\n",
      "Fatigued/Drowsy\n",
      "Failure to Keep Right\n",
      "Animals Action\n",
      "Driverless/Runaway Vehicle\n",
      "Drugs (illegal)\n",
      "Accelerator Defective\n",
      "Traffic Control Device Improper/Non-Working\n",
      "Cell Phone (hand-Held)\n",
      "Lane Marking Improper/Inadequate\n",
      "Physical Disability\n",
      "Tow Hitch Defective\n",
      "Using On Board Navigation Device\n",
      "Other Lighting Defects\n",
      "Prescription Medication\n",
      "Vehicle Vandalism\n",
      "Tinted Windows\n",
      "Headlights Defective\n",
      "Eating or Drinking\n",
      "Other Electronic Device\n",
      "Cell Phone (hands-free)\n",
      "Shoulders Defective/Improper\n",
      "Windshield Inadequate\n",
      "Listening/Using Headphones\n"
     ]
    }
   ],
   "source": [
    "nyc_crashes = nyc_crashes[nyc_crashes[\"contributing_factor_vehicle_1\"] != \"Unspecified\"]\n",
    "factor_lst = nyc_crashes[\"contributing_factor_vehicle_1\"].value_counts().index.to_list()"
   ],
   "metadata": {
    "collapsed": false,
    "pycharm": {
     "name": "#%%\n"
    }
   }
  },
  {
   "cell_type": "code",
   "execution_count": 31,
   "outputs": [
    {
     "name": "stdout",
     "output_type": "stream",
     "text": [
      "driver_mistake             28856\n",
      "distraction                24749\n",
      "illegal_action              5997\n",
      "other_involvement           5911\n",
      "bad_road_infrastructure      805\n",
      "car_failure                  805\n",
      "medical                      375\n",
      "Name: factor, dtype: int64\n"
     ]
    }
   ],
   "source": [
    "# Function to narrow down categories\n",
    "def narrowing_down_factor(factor):\n",
    "    distraction = ['Driver Inattention/Distraction','Passenger Distraction','Fell Asleep','Outside Car Distraction',\n",
    "                   'Fatigued/Drowsy','Cell Phone (hand-Held)','Using On Board Navigation Device',\n",
    "                   'Tinted Windows','Eating or Drinking', 'Other Electronic Device', 'Cell Phone (hands-free)',\n",
    "                   'Listening/Using Headphones']\n",
    "    driver_mistake = ['Following Too Closely','Failure to Yield Right-of-Way','Backing Unsafely',\n",
    "                      'Passing or Lane Usage Improper','Passing Too Closely','Unsafe Lane Changing',\n",
    "                      'Turning Improperly','Driver Inexperience', 'Failure to Keep Right',\n",
    "                      'Driverless/Runaway Vehicle']\n",
    "    illegal_action = ['Unsafe Speed','Alcohol Involvement','Traffic Control Disregarded','Aggressive Driving/Road Rage',\n",
    "                      'Drugs (illegal)']\n",
    "    other_involvement =  ['Other Vehicular','Reaction to Uninvolved Vehicle', 'Animals Action',\n",
    "                          'View Obstructed/Limited','Pedestrian/Bicyclist/Other Pedestrian Error/Confusion',\n",
    "                           'Glare','Vehicle Vandalism']\n",
    "    bad_road_infrastructure = ['Pavement Slippery', 'Obstruction/Debris','Pavement Defective',\n",
    "                               'Other Lighting Defects']\n",
    "    car_failures = ['Brakes Defective', 'Steering Failure', 'Tire Failure/Inadequate',\n",
    "                    'Traffic Control Device Improper/Non-Working', 'Lane Marking Improper/Inadequate',\n",
    "                    'Tow Hitch Defective','Headlights Defective', 'Shoulders Defective/Improper',\n",
    "                    'Windshield Inadequate']\n",
    "    medical = ['Lost Consciousness', 'Illnes','Accelerator Defective','Physical Disability','Prescription Medication']\n",
    "    if factor in medical:\n",
    "        return \"medical\"\n",
    "    elif factor in car_failures:\n",
    "        return \"car_failure\"\n",
    "    elif factor in bad_road_infrastructure:\n",
    "        return \"bad_road_infrastructure\"\n",
    "    elif factor in other_involvement:\n",
    "        return \"other_involvement\"\n",
    "    elif factor in illegal_action:\n",
    "        return \"illegal_action\"\n",
    "    elif factor in driver_mistake:\n",
    "        return \"driver_mistake\"\n",
    "    elif factor in distraction:\n",
    "        return \"distraction\"\n",
    "\n",
    "nyc_crashes[\"factor\"] = nyc_crashes[\"contributing_factor_vehicle_1\"].apply(lambda x: narrowing_down_factor(x))\n",
    "print(nyc_crashes[\"factor\"].value_counts())"
   ],
   "metadata": {
    "collapsed": false,
    "pycharm": {
     "name": "#%%\n"
    }
   }
  },
  {
   "cell_type": "code",
   "execution_count": 32,
   "outputs": [
    {
     "data": {
      "text/plain": "       factor_bad_road_infrastructure  factor_car_failure  factor_distraction  \\\n0                                   0                   0                   1   \n1                                   0                   0                   0   \n2                                   0                   0                   1   \n4                                   0                   0                   1   \n5                                   0                   0                   0   \n...                               ...                 ...                 ...   \n99993                               0                   0                   0   \n99994                               0                   0                   0   \n99997                               0                   0                   0   \n99998                               0                   0                   1   \n99999                               0                   0                   1   \n\n       factor_driver_mistake  factor_illegal_action  factor_medical  \\\n0                          0                      0               0   \n1                          1                      0               0   \n2                          0                      0               0   \n4                          0                      0               0   \n5                          1                      0               0   \n...                      ...                    ...             ...   \n99993                      1                      0               0   \n99994                      1                      0               0   \n99997                      1                      0               0   \n99998                      0                      0               0   \n99999                      0                      0               0   \n\n       factor_other_involvement  \n0                             0  \n1                             0  \n2                             0  \n4                             0  \n5                             0  \n...                         ...  \n99993                         0  \n99994                         0  \n99997                         0  \n99998                         0  \n99999                         0  \n\n[68332 rows x 7 columns]",
      "text/html": "<div>\n<style scoped>\n    .dataframe tbody tr th:only-of-type {\n        vertical-align: middle;\n    }\n\n    .dataframe tbody tr th {\n        vertical-align: top;\n    }\n\n    .dataframe thead th {\n        text-align: right;\n    }\n</style>\n<table border=\"1\" class=\"dataframe\">\n  <thead>\n    <tr style=\"text-align: right;\">\n      <th></th>\n      <th>factor_bad_road_infrastructure</th>\n      <th>factor_car_failure</th>\n      <th>factor_distraction</th>\n      <th>factor_driver_mistake</th>\n      <th>factor_illegal_action</th>\n      <th>factor_medical</th>\n      <th>factor_other_involvement</th>\n    </tr>\n  </thead>\n  <tbody>\n    <tr>\n      <th>0</th>\n      <td>0</td>\n      <td>0</td>\n      <td>1</td>\n      <td>0</td>\n      <td>0</td>\n      <td>0</td>\n      <td>0</td>\n    </tr>\n    <tr>\n      <th>1</th>\n      <td>0</td>\n      <td>0</td>\n      <td>0</td>\n      <td>1</td>\n      <td>0</td>\n      <td>0</td>\n      <td>0</td>\n    </tr>\n    <tr>\n      <th>2</th>\n      <td>0</td>\n      <td>0</td>\n      <td>1</td>\n      <td>0</td>\n      <td>0</td>\n      <td>0</td>\n      <td>0</td>\n    </tr>\n    <tr>\n      <th>4</th>\n      <td>0</td>\n      <td>0</td>\n      <td>1</td>\n      <td>0</td>\n      <td>0</td>\n      <td>0</td>\n      <td>0</td>\n    </tr>\n    <tr>\n      <th>5</th>\n      <td>0</td>\n      <td>0</td>\n      <td>0</td>\n      <td>1</td>\n      <td>0</td>\n      <td>0</td>\n      <td>0</td>\n    </tr>\n    <tr>\n      <th>...</th>\n      <td>...</td>\n      <td>...</td>\n      <td>...</td>\n      <td>...</td>\n      <td>...</td>\n      <td>...</td>\n      <td>...</td>\n    </tr>\n    <tr>\n      <th>99993</th>\n      <td>0</td>\n      <td>0</td>\n      <td>0</td>\n      <td>1</td>\n      <td>0</td>\n      <td>0</td>\n      <td>0</td>\n    </tr>\n    <tr>\n      <th>99994</th>\n      <td>0</td>\n      <td>0</td>\n      <td>0</td>\n      <td>1</td>\n      <td>0</td>\n      <td>0</td>\n      <td>0</td>\n    </tr>\n    <tr>\n      <th>99997</th>\n      <td>0</td>\n      <td>0</td>\n      <td>0</td>\n      <td>1</td>\n      <td>0</td>\n      <td>0</td>\n      <td>0</td>\n    </tr>\n    <tr>\n      <th>99998</th>\n      <td>0</td>\n      <td>0</td>\n      <td>1</td>\n      <td>0</td>\n      <td>0</td>\n      <td>0</td>\n      <td>0</td>\n    </tr>\n    <tr>\n      <th>99999</th>\n      <td>0</td>\n      <td>0</td>\n      <td>1</td>\n      <td>0</td>\n      <td>0</td>\n      <td>0</td>\n      <td>0</td>\n    </tr>\n  </tbody>\n</table>\n<p>68332 rows × 7 columns</p>\n</div>"
     },
     "execution_count": 32,
     "metadata": {},
     "output_type": "execute_result"
    }
   ],
   "source": [
    "pd.get_dummies(nyc_crashes.factor, prefix='factor')\n"
   ],
   "metadata": {
    "collapsed": false,
    "pycharm": {
     "name": "#%%\n"
    }
   }
  },
  {
   "cell_type": "code",
   "execution_count": null,
   "outputs": [],
   "source": [],
   "metadata": {
    "collapsed": false,
    "pycharm": {
     "name": "#%%\n"
    }
   }
  }
 ],
 "metadata": {
  "kernelspec": {
   "name": "python3",
   "language": "python",
   "display_name": "Python 3 (ipykernel)"
  },
  "language_info": {
   "codemirror_mode": {
    "name": "ipython",
    "version": 2
   },
   "file_extension": ".py",
   "mimetype": "text/x-python",
   "name": "python",
   "nbconvert_exporter": "python",
   "pygments_lexer": "ipython2",
   "version": "2.7.6"
  }
 },
 "nbformat": 4,
 "nbformat_minor": 0
}