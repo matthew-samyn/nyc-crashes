{
 "cells": [
  {
   "cell_type": "markdown",
   "metadata": {
    "collapsed": true,
    "pycharm": {
     "name": "#%% md\n"
    }
   },
   "source": [
    "Importing necessary libraries"
   ]
  },
  {
   "cell_type": "code",
   "execution_count": 59,
   "outputs": [],
   "source": [
    "import pandas as pd\n",
    "import numpy as np"
   ],
   "metadata": {
    "collapsed": false,
    "pycharm": {
     "name": "#%%\n"
    }
   }
  },
  {
   "cell_type": "markdown",
   "source": [
    "Setting up DataFrame."
   ],
   "metadata": {
    "collapsed": false
   }
  },
  {
   "cell_type": "code",
   "execution_count": 60,
   "outputs": [
    {
     "name": "stdout",
     "output_type": "stream",
     "text": [
      "(100000, 29)\n"
     ]
    }
   ],
   "source": [
    "nyc_crashes = pd.read_csv(\"original-crashes.csv\")\n",
    "print(nyc_crashes.shape)"
   ],
   "metadata": {
    "collapsed": false,
    "pycharm": {
     "name": "#%%\n"
    }
   }
  },
  {
   "cell_type": "markdown",
   "source": [
    "Dropping columns.\n",
    "Keeping column contributing_factor_vehicle_1"
   ],
   "metadata": {
    "collapsed": false
   }
  },
  {
   "cell_type": "code",
   "execution_count": 61,
   "outputs": [],
   "source": [
    "to_drop = \\\n",
    "    [\"borough\",\"zip_code\",\"location\",\"on_street_name\",\n",
    "     \"off_street_name\",\"cross_street_name\", \"number_of_pedestrians_injured\",\n",
    "     \"number_of_pedestrians_killed\", \"number_of_cyclist_injured\",\n",
    "     \"number_of_cyclist_killed\", \"number_of_motorist_injured\",\n",
    "     \"number_of_motorist_killed\",\n",
    "     \"contributing_factor_vehicle_2\", \"contributing_factor_vehicle_3\",\n",
    "     \"contributing_factor_vehicle_4\",\"contributing_factor_vehicle_5\",\n",
    "     \"collision_id\",\"vehicle_type_code1\",\"vehicle_type_code2\",\n",
    "     \"vehicle_type_code_3\",\"vehicle_type_code_4\",\"vehicle_type_code_5\"]\n",
    "\n",
    "nyc_crashes = nyc_crashes.drop(columns=to_drop)"
   ],
   "metadata": {
    "collapsed": false,
    "pycharm": {
     "name": "#%%\n"
    }
   }
  },
  {
   "cell_type": "markdown",
   "source": [
    "Exploring DataFrame \"nyc_crashes\""
   ],
   "metadata": {
    "collapsed": false
   }
  },
  {
   "cell_type": "code",
   "execution_count": 62,
   "outputs": [
    {
     "name": "stdout",
     "output_type": "stream",
     "text": [
      "Index(['crash_date', 'crash_time', 'latitude', 'longitude',\n",
      "       'number_of_persons_injured', 'number_of_persons_killed',\n",
      "       'contributing_factor_vehicle_1'],\n",
      "      dtype='object')\n",
      "crash_date                          0\n",
      "crash_time                          0\n",
      "latitude                         8035\n",
      "longitude                        8035\n",
      "number_of_persons_injured           0\n",
      "number_of_persons_killed            0\n",
      "contributing_factor_vehicle_1     371\n",
      "dtype: int64\n",
      "crash_date                        object\n",
      "crash_time                        object\n",
      "latitude                         float64\n",
      "longitude                        float64\n",
      "number_of_persons_injured          int64\n",
      "number_of_persons_killed           int64\n",
      "contributing_factor_vehicle_1     object\n",
      "dtype: object\n"
     ]
    }
   ],
   "source": [
    "print(nyc_crashes.columns)\n",
    "print(nyc_crashes.isna().sum())\n",
    "print(nyc_crashes.dtypes)"
   ],
   "metadata": {
    "collapsed": false,
    "pycharm": {
     "name": "#%%\n"
    }
   }
  },
  {
   "cell_type": "code",
   "execution_count": 63,
   "outputs": [
    {
     "name": "stdout",
     "output_type": "stream",
     "text": [
      "                crash_date crash_time   latitude  longitude  number_of_persons_injured  number_of_persons_killed   contributing_factor_vehicle_1\n",
      "0  2017-04-18T00:00:00.000      23:10  40.536728 -74.193344                          0                         0  Driver Inattention/Distraction\n"
     ]
    }
   ],
   "source": [
    "print(nyc_crashes.head(1).to_string())"
   ],
   "metadata": {
    "collapsed": false,
    "pycharm": {
     "name": "#%%\n"
    }
   }
  },
  {
   "cell_type": "markdown",
   "source": [
    "Feature slicing crash_date into [\"day\", \"month\", \"year\"]"
   ],
   "metadata": {
    "collapsed": false
   }
  },
  {
   "cell_type": "code",
   "execution_count": 64,
   "outputs": [
    {
     "name": "stdout",
     "output_type": "stream",
     "text": [
      "                 day          month           year\n",
      "count  100000.000000  100000.000000  100000.000000\n",
      "mean       16.336260       7.022990    2019.378560\n",
      "std         8.959698       1.828326       0.779332\n",
      "min         1.000000       2.000000    2013.000000\n",
      "25%         8.000000       6.000000    2019.000000\n",
      "50%        17.000000       7.000000    2020.000000\n",
      "75%        24.000000       8.000000    2020.000000\n",
      "max        31.000000      12.000000    2020.000000\n"
     ]
    }
   ],
   "source": [
    "# Function for the apply-method\n",
    "def splitting_date(date):\n",
    "    date = date.split(sep=\"T\")\n",
    "    date_lst = date[0].split(sep=\"-\")\n",
    "    day = int(date_lst[2])\n",
    "    month = int(date_lst[1])\n",
    "    year = int(date_lst[0])\n",
    "    return day, month, year\n",
    "\n",
    "nyc_crashes[\"day\"], nyc_crashes[\"month\"], nyc_crashes[\"year\"] \\\n",
    "    = zip(*nyc_crashes[\"crash_date\"].apply(lambda x: splitting_date(x)))\n",
    "\n",
    "# Checking if the new columns have the correct min-max\n",
    "print(nyc_crashes[[\"day\",\"month\",\"year\"]].describe())\n",
    "\n",
    "# Dropping \"crash_date\" column.\n",
    "nyc_crashes = nyc_crashes.drop(columns=[\"crash_date\"])\n",
    "\n",
    "# Bringing new columns to the front\n",
    "cols_to_move = [\"day\", \"month\",\"year\"]\n",
    "nyc_crashes = nyc_crashes[cols_to_move + [col for col in nyc_crashes.columns if col not in cols_to_move]]"
   ],
   "metadata": {
    "collapsed": false,
    "pycharm": {
     "name": "#%%\n"
    }
   }
  },
  {
   "cell_type": "markdown",
   "source": [
    "\"crash_time\" to type: int.\n",
    "Keeping just the hour."
   ],
   "metadata": {
    "collapsed": false
   }
  },
  {
   "cell_type": "code",
   "execution_count": 65,
   "outputs": [
    {
     "name": "stdout",
     "output_type": "stream",
     "text": [
      "17    7128\n",
      "16    7033\n",
      "14    6723\n",
      "15    6302\n",
      "18    6150\n",
      "13    5978\n",
      "12    5524\n",
      "11    5041\n",
      "19    4878\n",
      "10    4670\n",
      "9     4545\n",
      "8     4405\n",
      "20    4255\n",
      "0     4139\n",
      "21    3927\n",
      "22    3639\n",
      "23    3151\n",
      "7     2832\n",
      "6     2127\n",
      "1     2024\n",
      "2     1549\n",
      "5     1384\n",
      "3     1327\n",
      "4     1269\n",
      "Name: crash_time, dtype: int64\n"
     ]
    }
   ],
   "source": [
    "nyc_crashes[\"crash_time\"] \\\n",
    "    = nyc_crashes[\"crash_time\"].apply(lambda x: int(x.split(sep=\":\")[0]))\n",
    "print(nyc_crashes.crash_time.value_counts())"
   ],
   "metadata": {
    "collapsed": false,
    "pycharm": {
     "name": "#%%\n"
    }
   }
  },
  {
   "cell_type": "markdown",
   "source": [
    "Checking for rows that contains NaN's."
   ],
   "metadata": {
    "collapsed": false
   }
  },
  {
   "cell_type": "code",
   "execution_count": 66,
   "outputs": [
    {
     "name": "stdout",
     "output_type": "stream",
     "text": [
      "day                                 0\n",
      "month                               0\n",
      "year                                0\n",
      "crash_time                          0\n",
      "latitude                         8035\n",
      "longitude                        8035\n",
      "number_of_persons_injured           0\n",
      "number_of_persons_killed            0\n",
      "contributing_factor_vehicle_1     371\n",
      "dtype: int64\n"
     ]
    }
   ],
   "source": [
    "print(nyc_crashes.isna().sum())"
   ],
   "metadata": {
    "collapsed": false,
    "pycharm": {
     "name": "#%%\n"
    }
   }
  },
  {
   "cell_type": "markdown",
   "source": [
    "Dropping rows where the columns \"longitude\", and \"latitude\" contain NaN\"s."
   ],
   "metadata": {
    "collapsed": false
   }
  },
  {
   "cell_type": "code",
   "execution_count": 67,
   "outputs": [],
   "source": [
    "nyc_crashes = nyc_crashes.dropna(subset=[\"latitude\",\"longitude\"],how=\"all\")"
   ],
   "metadata": {
    "collapsed": false,
    "pycharm": {
     "name": "#%%\n"
    }
   }
  },
  {
   "cell_type": "markdown",
   "source": [
    "Dropping rows where the columns \"longitude\", and \"latitude\" contain same values."
   ],
   "metadata": {
    "collapsed": false
   }
  },
  {
   "cell_type": "code",
   "execution_count": 68,
   "outputs": [
    {
     "name": "stdout",
     "output_type": "stream",
     "text": [
      "day                                0\n",
      "month                              0\n",
      "year                               0\n",
      "crash_time                         0\n",
      "latitude                           0\n",
      "longitude                          0\n",
      "number_of_persons_injured          0\n",
      "number_of_persons_killed           0\n",
      "contributing_factor_vehicle_1    355\n",
      "dtype: int64\n",
      "(91965, 9)\n",
      "(169, 9)\n",
      "(169, 9)\n",
      "(91796, 9)\n"
     ]
    }
   ],
   "source": [
    "print(nyc_crashes.isna().sum())\n",
    "print(nyc_crashes.shape)\n",
    "print(nyc_crashes[nyc_crashes[\"longitude\"] == 0].shape)\n",
    "print(nyc_crashes[nyc_crashes[\"latitude\"] == 0].shape)\n",
    "nyc_crashes = nyc_crashes[nyc_crashes[\"longitude\"] != nyc_crashes[\"latitude\"]]\n",
    "print(nyc_crashes.shape)"
   ],
   "metadata": {
    "collapsed": false,
    "pycharm": {
     "name": "#%%\n"
    }
   }
  },
  {
   "cell_type": "markdown",
   "source": [
    "Getting to know the column \"contributing_factor_vehicle_1\""
   ],
   "metadata": {
    "collapsed": false,
    "pycharm": {
     "name": "#%% md\n"
    }
   }
  },
  {
   "cell_type": "code",
   "execution_count": 69,
   "outputs": [
    {
     "name": "stdout",
     "output_type": "stream",
     "text": [
      "Index(['day', 'month', 'year', 'crash_time', 'latitude', 'longitude',\n",
      "       'number_of_persons_injured', 'number_of_persons_killed',\n",
      "       'contributing_factor_vehicle_1'],\n",
      "      dtype='object')\n",
      "['Driver Inattention/Distraction', 'Unspecified', 'Following Too Closely', 'Failure to Yield Right-of-Way', 'Backing Unsafely', 'Passing or Lane Usage Improper', 'Passing Too Closely', 'Other Vehicular', 'Unsafe Speed', 'Unsafe Lane Changing', 'Traffic Control Disregarded', 'Turning Improperly', 'Driver Inexperience', 'Reaction to Uninvolved Vehicle', 'Alcohol Involvement', 'View Obstructed/Limited', 'Pedestrian/Bicyclist/Other Pedestrian Error/Confusion', 'Aggressive Driving/Road Rage', 'Oversized Vehicle', 'Pavement Slippery', 'Brakes Defective', 'Fell Asleep', 'Passenger Distraction', 'Obstruction/Debris', 'Outside Car Distraction', 'Steering Failure', 'Tire Failure/Inadequate', 'Lost Consciousness', 'Illnes', 'Pavement Defective', 'Glare', 'Fatigued/Drowsy', 'Failure to Keep Right', 'Animals Action', 'Driverless/Runaway Vehicle', 'Drugs (illegal)', 'Accelerator Defective', 'Traffic Control Device Improper/Non-Working', 'Cell Phone (hand-Held)', 'Lane Marking Improper/Inadequate', 'Physical Disability', 'Tow Hitch Defective', 'Using On Board Navigation Device', 'Other Lighting Defects', 'Prescription Medication', 'Tinted Windows', 'Headlights Defective', 'Eating or Drinking', 'Vehicle Vandalism', 'Other Electronic Device', 'Cell Phone (hands-free)', 'Shoulders Defective/Improper', 'Listening/Using Headphones', 'Windshield Inadequate']\n"
     ]
    }
   ],
   "source": [
    "print(nyc_crashes.columns)\n",
    "factor_lst = nyc_crashes[\"contributing_factor_vehicle_1\"].value_counts().index.to_list()\n",
    "print(factor_lst)"
   ],
   "metadata": {
    "collapsed": false,
    "pycharm": {
     "name": "#%%\n"
    }
   }
  },
  {
   "cell_type": "markdown",
   "source": [
    "Removing rows containing category \"unspecified\"\n"
   ],
   "metadata": {
    "collapsed": false,
    "pycharm": {
     "name": "#%% md\n"
    }
   }
  },
  {
   "cell_type": "code",
   "execution_count": 81,
   "outputs": [
    {
     "name": "stdout",
     "output_type": "stream",
     "text": [
      "Driver Inattention/Distraction\n",
      "Following Too Closely\n",
      "Failure to Yield Right-of-Way\n",
      "Backing Unsafely\n",
      "Passing or Lane Usage Improper\n",
      "Passing Too Closely\n",
      "Other Vehicular\n",
      "Unsafe Speed\n",
      "Unsafe Lane Changing\n",
      "Traffic Control Disregarded\n",
      "Turning Improperly\n",
      "Driver Inexperience\n",
      "Reaction to Uninvolved Vehicle\n",
      "Alcohol Involvement\n",
      "View Obstructed/Limited\n",
      "Pedestrian/Bicyclist/Other Pedestrian Error/Confusion\n",
      "Aggressive Driving/Road Rage\n",
      "Oversized Vehicle\n",
      "Pavement Slippery\n",
      "Brakes Defective\n",
      "Fell Asleep\n",
      "Passenger Distraction\n",
      "Obstruction/Debris\n",
      "Outside Car Distraction\n",
      "Steering Failure\n",
      "Tire Failure/Inadequate\n",
      "Lost Consciousness\n",
      "Illnes\n",
      "Pavement Defective\n",
      "Glare\n",
      "Fatigued/Drowsy\n",
      "Failure to Keep Right\n",
      "Animals Action\n",
      "Driverless/Runaway Vehicle\n",
      "Drugs (illegal)\n",
      "Accelerator Defective\n",
      "Traffic Control Device Improper/Non-Working\n",
      "Cell Phone (hand-Held)\n",
      "Lane Marking Improper/Inadequate\n",
      "Physical Disability\n",
      "Tow Hitch Defective\n",
      "Using On Board Navigation Device\n",
      "Other Lighting Defects\n",
      "Prescription Medication\n",
      "Vehicle Vandalism\n",
      "Headlights Defective\n",
      "Eating or Drinking\n",
      "Tinted Windows\n",
      "Other Electronic Device\n",
      "Cell Phone (hands-free)\n",
      "Shoulders Defective/Improper\n",
      "Listening/Using Headphones\n",
      "Windshield Inadequate\n"
     ]
    }
   ],
   "source": [
    "nyc_crashes = nyc_crashes[nyc_crashes[\"contributing_factor_vehicle_1\"] != \"Unspecified\"]\n",
    "factor_lst = nyc_crashes[\"contributing_factor_vehicle_1\"].value_counts().index.to_list()\n",
    "\n",
    "for x in factor_lst:\n",
    "    print(x)"
   ],
   "metadata": {
    "collapsed": false,
    "pycharm": {
     "name": "#%%\n"
    }
   }
  },
  {
   "cell_type": "code",
   "execution_count": 70,
   "outputs": [],
   "source": [
    "# Function to narrow down categories\n",
    "def narrowing_down_factor(factor):\n",
    "    distraction = ['Driver Inattention/Distraction','Passenger Distraction',]\n",
    "    driver_mistake = ['Following Too Closely','Failure to Yield Right-of-Way','Backing Unsafely',\n",
    "                      'Passing or Lane Usage Improper','Passing Too Closely','Unsafe Lane Changing',\n",
    "                      'Turning Improperly','Driver Inexperience',#'Oversized Vehicle'#, ]\n",
    "    illegal_action = ['Unsafe Speed','Alcohol Involvement','Traffic Control Disregarded','Aggressive Driving/Road Rage',\n",
    "                      ]\n",
    "    other_involvement =  ['Other Vehicular','Reaction to Uninvolved Vehicle',\n",
    "                          'View Obstructed/Limited','Pedestrian/Bicyclist/Other Pedestrian Error/Confusion',\n",
    "                          ]"
   ],
   "metadata": {
    "collapsed": false,
    "pycharm": {
     "name": "#%%\n"
    }
   }
  }
 ],
 "metadata": {
  "kernelspec": {
   "name": "build_central",
   "language": "python",
   "display_name": "3_9"
  },
  "language_info": {
   "codemirror_mode": {
    "name": "ipython",
    "version": 2
   },
   "file_extension": ".py",
   "mimetype": "text/x-python",
   "name": "python",
   "nbconvert_exporter": "python",
   "pygments_lexer": "ipython2",
   "version": "2.7.6"
  }
 },
 "nbformat": 4,
 "nbformat_minor": 0
}