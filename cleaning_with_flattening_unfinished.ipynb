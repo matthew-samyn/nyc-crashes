{
 "cells": [
  {
   "cell_type": "markdown",
   "metadata": {
    "collapsed": true,
    "pycharm": {
     "name": "#%% md\n"
    }
   },
   "source": [
    "Importing necessary libraries"
   ]
  },
  {
   "cell_type": "code",
   "execution_count": 345,
   "outputs": [],
   "source": [
    "import pandas as pd"
   ],
   "metadata": {
    "collapsed": false,
    "pycharm": {
     "name": "#%%\n"
    }
   }
  },
  {
   "cell_type": "markdown",
   "source": [
    "Setting up DataFrame."
   ],
   "metadata": {
    "collapsed": false
   }
  },
  {
   "cell_type": "code",
   "execution_count": 346,
   "outputs": [
    {
     "name": "stdout",
     "output_type": "stream",
     "text": [
      "(100000, 29)\n"
     ]
    }
   ],
   "source": [
    "nyc_crashes = pd.read_csv(\"original-crashes.csv\")\n",
    "print(nyc_crashes.shape)"
   ],
   "metadata": {
    "collapsed": false,
    "pycharm": {
     "name": "#%%\n"
    }
   }
  },
  {
   "cell_type": "markdown",
   "source": [
    "Dropping columns.\n",
    "Keeping column contributing_factor_vehicle_1"
   ],
   "metadata": {
    "collapsed": false,
    "pycharm": {
     "name": "#%% md\n"
    }
   }
  },
  {
   "cell_type": "code",
   "execution_count": 347,
   "outputs": [],
   "source": [
    "to_drop = \\\n",
    "    [\"borough\",\"zip_code\",\"location\",\"on_street_name\",\n",
    "     \"off_street_name\",\"cross_street_name\", \"number_of_pedestrians_injured\",\n",
    "     \"number_of_pedestrians_killed\", \"number_of_cyclist_injured\",\n",
    "     \"number_of_cyclist_killed\", \"number_of_motorist_injured\",\n",
    "     \"number_of_motorist_killed\", \"collision_id\",\"vehicle_type_code1\",\"vehicle_type_code2\",\n",
    "     \"vehicle_type_code_3\",\"vehicle_type_code_4\",\"vehicle_type_code_5\"]\n",
    "\n",
    "nyc_crashes = nyc_crashes.drop(columns=to_drop)"
   ],
   "metadata": {
    "collapsed": false,
    "pycharm": {
     "name": "#%%\n"
    }
   }
  },
  {
   "cell_type": "markdown",
   "source": [
    "Exploring DataFrame \"nyc_crashes\""
   ],
   "metadata": {
    "collapsed": false,
    "pycharm": {
     "name": "#%% md\n"
    }
   }
  },
  {
   "cell_type": "code",
   "execution_count": 348,
   "outputs": [
    {
     "name": "stdout",
     "output_type": "stream",
     "text": [
      "Index(['crash_date', 'crash_time', 'latitude', 'longitude',\n",
      "       'number_of_persons_injured', 'number_of_persons_killed',\n",
      "       'contributing_factor_vehicle_1', 'contributing_factor_vehicle_2',\n",
      "       'contributing_factor_vehicle_3', 'contributing_factor_vehicle_4',\n",
      "       'contributing_factor_vehicle_5'],\n",
      "      dtype='object')\n",
      "crash_date                           0\n",
      "crash_time                           0\n",
      "latitude                          8035\n",
      "longitude                         8035\n",
      "number_of_persons_injured            0\n",
      "number_of_persons_killed             0\n",
      "contributing_factor_vehicle_1      371\n",
      "contributing_factor_vehicle_2    19243\n",
      "contributing_factor_vehicle_3    91239\n",
      "contributing_factor_vehicle_4    97760\n",
      "contributing_factor_vehicle_5    99333\n",
      "dtype: int64\n",
      "crash_date                        object\n",
      "crash_time                        object\n",
      "latitude                         float64\n",
      "longitude                        float64\n",
      "number_of_persons_injured          int64\n",
      "number_of_persons_killed           int64\n",
      "contributing_factor_vehicle_1     object\n",
      "contributing_factor_vehicle_2     object\n",
      "contributing_factor_vehicle_3     object\n",
      "contributing_factor_vehicle_4     object\n",
      "contributing_factor_vehicle_5     object\n",
      "dtype: object\n"
     ]
    }
   ],
   "source": [
    "print(nyc_crashes.columns)\n",
    "print(nyc_crashes.isna().sum())\n",
    "print(nyc_crashes.dtypes)"
   ],
   "metadata": {
    "collapsed": false,
    "pycharm": {
     "name": "#%%\n"
    }
   }
  },
  {
   "cell_type": "code",
   "execution_count": 349,
   "outputs": [
    {
     "name": "stdout",
     "output_type": "stream",
     "text": [
      "                crash_date crash_time   latitude  longitude  number_of_persons_injured  number_of_persons_killed   contributing_factor_vehicle_1 contributing_factor_vehicle_2 contributing_factor_vehicle_3 contributing_factor_vehicle_4 contributing_factor_vehicle_5\n",
      "0  2017-04-18T00:00:00.000      23:10  40.536728 -74.193344                          0                         0  Driver Inattention/Distraction                   Unspecified                           NaN                           NaN                           NaN\n"
     ]
    }
   ],
   "source": [
    "print(nyc_crashes.head(1).to_string())"
   ],
   "metadata": {
    "collapsed": false,
    "pycharm": {
     "name": "#%%\n"
    }
   }
  },
  {
   "cell_type": "markdown",
   "source": [
    "Feature slicing crash_date into [\"day\", \"month\", \"year\"]"
   ],
   "metadata": {
    "collapsed": false
   }
  },
  {
   "cell_type": "code",
   "execution_count": 350,
   "outputs": [
    {
     "name": "stdout",
     "output_type": "stream",
     "text": [
      "                 day          month           year\n",
      "count  100000.000000  100000.000000  100000.000000\n",
      "mean       16.336260       7.022990    2019.378560\n",
      "std         8.959698       1.828326       0.779332\n",
      "min         1.000000       2.000000    2013.000000\n",
      "25%         8.000000       6.000000    2019.000000\n",
      "50%        17.000000       7.000000    2020.000000\n",
      "75%        24.000000       8.000000    2020.000000\n",
      "max        31.000000      12.000000    2020.000000\n"
     ]
    }
   ],
   "source": [
    "# Function for the apply-method\n",
    "def splitting_date(date):\n",
    "    date = date.split(sep=\"T\")\n",
    "    date_lst = date[0].split(sep=\"-\")\n",
    "    day = int(date_lst[2])\n",
    "    month = int(date_lst[1])\n",
    "    year = int(date_lst[0])\n",
    "    return day, month, year\n",
    "\n",
    "nyc_crashes[\"day\"], nyc_crashes[\"month\"], nyc_crashes[\"year\"] \\\n",
    "    = zip(*nyc_crashes[\"crash_date\"].apply(lambda x: splitting_date(x)))\n",
    "\n",
    "# Checking if the new columns have the correct min-max\n",
    "print(nyc_crashes[[\"day\",\"month\",\"year\"]].describe())\n",
    "\n",
    "# Dropping \"crash_date\" column.\n",
    "nyc_crashes = nyc_crashes.drop(columns=[\"crash_date\"])\n",
    "\n",
    "# Bringing new columns to the front\n",
    "cols_to_move = [\"day\", \"month\",\"year\"]\n",
    "nyc_crashes = nyc_crashes[cols_to_move + [col for col in nyc_crashes.columns if col not in cols_to_move]]"
   ],
   "metadata": {
    "collapsed": false,
    "pycharm": {
     "name": "#%%\n"
    }
   }
  },
  {
   "cell_type": "markdown",
   "source": [
    "\"crash_time\" to type: int.\n",
    "Keeping just the hour."
   ],
   "metadata": {
    "collapsed": false
   }
  },
  {
   "cell_type": "code",
   "execution_count": 351,
   "outputs": [
    {
     "name": "stdout",
     "output_type": "stream",
     "text": [
      "17    7128\n",
      "16    7033\n",
      "14    6723\n",
      "15    6302\n",
      "18    6150\n",
      "13    5978\n",
      "12    5524\n",
      "11    5041\n",
      "19    4878\n",
      "10    4670\n",
      "9     4545\n",
      "8     4405\n",
      "20    4255\n",
      "0     4139\n",
      "21    3927\n",
      "22    3639\n",
      "23    3151\n",
      "7     2832\n",
      "6     2127\n",
      "1     2024\n",
      "2     1549\n",
      "5     1384\n",
      "3     1327\n",
      "4     1269\n",
      "Name: crash_time, dtype: int64\n"
     ]
    }
   ],
   "source": [
    "nyc_crashes[\"crash_time\"] \\\n",
    "    = nyc_crashes[\"crash_time\"].apply(lambda x: int(x.split(sep=\":\")[0]))\n",
    "print(nyc_crashes.crash_time.value_counts())"
   ],
   "metadata": {
    "collapsed": false,
    "pycharm": {
     "name": "#%%\n"
    }
   }
  },
  {
   "cell_type": "markdown",
   "source": [
    "Checking for rows that contains NaN's."
   ],
   "metadata": {
    "collapsed": false
   }
  },
  {
   "cell_type": "code",
   "execution_count": 352,
   "outputs": [
    {
     "name": "stdout",
     "output_type": "stream",
     "text": [
      "day                                  0\n",
      "month                                0\n",
      "year                                 0\n",
      "crash_time                           0\n",
      "latitude                          8035\n",
      "longitude                         8035\n",
      "number_of_persons_injured            0\n",
      "number_of_persons_killed             0\n",
      "contributing_factor_vehicle_1      371\n",
      "contributing_factor_vehicle_2    19243\n",
      "contributing_factor_vehicle_3    91239\n",
      "contributing_factor_vehicle_4    97760\n",
      "contributing_factor_vehicle_5    99333\n",
      "dtype: int64\n"
     ]
    }
   ],
   "source": [
    "print(nyc_crashes.isna().sum())"
   ],
   "metadata": {
    "collapsed": false,
    "pycharm": {
     "name": "#%%\n"
    }
   }
  },
  {
   "cell_type": "markdown",
   "source": [
    "Dropping rows where the columns \"longitude\", and \"latitude\" contain NaN\"s."
   ],
   "metadata": {
    "collapsed": false
   }
  },
  {
   "cell_type": "code",
   "execution_count": 353,
   "outputs": [],
   "source": [
    "nyc_crashes = nyc_crashes.dropna(subset=[\"latitude\",\"longitude\"],how=\"all\")"
   ],
   "metadata": {
    "collapsed": false,
    "pycharm": {
     "name": "#%%\n"
    }
   }
  },
  {
   "cell_type": "markdown",
   "source": [
    "Dropping rows where the columns \"longitude\", and \"latitude\" contain same values."
   ],
   "metadata": {
    "collapsed": false
   }
  },
  {
   "cell_type": "code",
   "execution_count": 354,
   "outputs": [
    {
     "name": "stdout",
     "output_type": "stream",
     "text": [
      "day                                  0\n",
      "month                                0\n",
      "year                                 0\n",
      "crash_time                           0\n",
      "latitude                             0\n",
      "longitude                            0\n",
      "number_of_persons_injured            0\n",
      "number_of_persons_killed             0\n",
      "contributing_factor_vehicle_1      355\n",
      "contributing_factor_vehicle_2    17754\n",
      "contributing_factor_vehicle_3    83966\n",
      "contributing_factor_vehicle_4    89906\n",
      "contributing_factor_vehicle_5    91338\n",
      "dtype: int64\n",
      "(91965, 13)\n",
      "(169, 13)\n",
      "(169, 13)\n",
      "(91796, 13)\n"
     ]
    }
   ],
   "source": [
    "print(nyc_crashes.isna().sum())\n",
    "print(nyc_crashes.shape)\n",
    "print(nyc_crashes[nyc_crashes[\"longitude\"] == 0].shape)\n",
    "print(nyc_crashes[nyc_crashes[\"latitude\"] == 0].shape)\n",
    "nyc_crashes = nyc_crashes[nyc_crashes[\"longitude\"] != nyc_crashes[\"latitude\"]]\n",
    "print(nyc_crashes.shape)"
   ],
   "metadata": {
    "collapsed": false,
    "pycharm": {
     "name": "#%%\n"
    }
   }
  },
  {
   "cell_type": "markdown",
   "source": [
    "Getting to know the columns \"contributing_factor_vehicle\""
   ],
   "metadata": {
    "collapsed": false
   }
  },
  {
   "cell_type": "code",
   "execution_count": 355,
   "outputs": [
    {
     "name": "stdout",
     "output_type": "stream",
     "text": [
      "Index(['day', 'month', 'year', 'crash_time', 'latitude', 'longitude',\n",
      "       'number_of_persons_injured', 'number_of_persons_killed',\n",
      "       'contributing_factor_vehicle_1', 'contributing_factor_vehicle_2',\n",
      "       'contributing_factor_vehicle_3', 'contributing_factor_vehicle_4',\n",
      "       'contributing_factor_vehicle_5'],\n",
      "      dtype='object')\n",
      "['Driver Inattention/Distraction', 'Unspecified', 'Following Too Closely', 'Failure to Yield Right-of-Way', 'Backing Unsafely', 'Passing or Lane Usage Improper', 'Passing Too Closely', 'Other Vehicular', 'Unsafe Speed', 'Unsafe Lane Changing', 'Traffic Control Disregarded', 'Turning Improperly', 'Driver Inexperience', 'Reaction to Uninvolved Vehicle', 'Alcohol Involvement', 'View Obstructed/Limited', 'Pedestrian/Bicyclist/Other Pedestrian Error/Confusion', 'Aggressive Driving/Road Rage', 'Oversized Vehicle', 'Pavement Slippery', 'Brakes Defective', 'Fell Asleep', 'Passenger Distraction', 'Obstruction/Debris', 'Outside Car Distraction', 'Steering Failure', 'Tire Failure/Inadequate', 'Lost Consciousness', 'Illnes', 'Pavement Defective', 'Glare', 'Fatigued/Drowsy', 'Failure to Keep Right', 'Animals Action', 'Driverless/Runaway Vehicle', 'Drugs (illegal)', 'Accelerator Defective', 'Traffic Control Device Improper/Non-Working', 'Cell Phone (hand-Held)', 'Lane Marking Improper/Inadequate', 'Physical Disability', 'Tow Hitch Defective', 'Using On Board Navigation Device', 'Other Lighting Defects', 'Prescription Medication', 'Eating or Drinking', 'Headlights Defective', 'Tinted Windows', 'Vehicle Vandalism', 'Other Electronic Device', 'Cell Phone (hands-free)', 'Shoulders Defective/Improper', 'Windshield Inadequate', 'Listening/Using Headphones']\n"
     ]
    }
   ],
   "source": [
    "print(nyc_crashes.columns)\n",
    "factor_lst = nyc_crashes[\"contributing_factor_vehicle_1\"].value_counts().index.to_list()\n",
    "print(factor_lst)"
   ],
   "metadata": {
    "collapsed": false,
    "pycharm": {
     "name": "#%%\n"
    }
   }
  },
  {
   "cell_type": "markdown",
   "source": [
    "Dropping rows if all values in factor columns are NaN"
   ],
   "metadata": {
    "collapsed": false
   }
  },
  {
   "cell_type": "code",
   "execution_count": 356,
   "outputs": [
    {
     "name": "stdout",
     "output_type": "stream",
     "text": [
      "(91796, 13)\n",
      "(91442, 13)\n"
     ]
    }
   ],
   "source": [
    "print(nyc_crashes.shape)\n",
    "nyc_crashes = nyc_crashes.dropna(subset=[\"contributing_factor_vehicle_1\",\n",
    "\"contributing_factor_vehicle_2\",\n",
    "\"contributing_factor_vehicle_3\",\n",
    "\"contributing_factor_vehicle_4\",\n",
    "\"contributing_factor_vehicle_5\"], how=\"all\")\n",
    "print(nyc_crashes.shape)"
   ],
   "metadata": {
    "collapsed": false,
    "pycharm": {
     "name": "#%%\n"
    }
   }
  },
  {
   "cell_type": "markdown",
   "source": [
    "Making new column for each car, combining the factors into categories."
   ],
   "metadata": {
    "collapsed": false,
    "pycharm": {
     "name": "#%% md\n"
    }
   }
  },
  {
   "cell_type": "code",
   "execution_count": 357,
   "outputs": [],
   "source": [
    "# Function to narrow down categories\n",
    "def narrowing_down_factor(factor):\n",
    "    distraction = ['Driver Inattention/Distraction','Passenger Distraction','Fell Asleep','Outside Car Distraction',\n",
    "                   'Fatigued/Drowsy','Cell Phone (hand-Held)','Using On Board Navigation Device',\n",
    "                   'Tinted Windows','Eating or Drinking', 'Other Electronic Device', 'Cell Phone (hands-free)',\n",
    "                   'Listening/Using Headphones']\n",
    "    driver_mistake = ['Following Too Closely','Failure to Yield Right-of-Way','Backing Unsafely',\n",
    "                      'Passing or Lane Usage Improper','Passing Too Closely','Unsafe Lane Changing',\n",
    "                      'Turning Improperly','Driver Inexperience', 'Failure to Keep Right',\n",
    "                      'Driverless/Runaway Vehicle', 'Oversized Vehicle']\n",
    "    illegal_action = ['Unsafe Speed','Alcohol Involvement','Traffic Control Disregarded','Aggressive Driving/Road Rage',\n",
    "                      'Drugs (illegal)']\n",
    "    other_involvement =  ['Other Vehicular','Reaction to Uninvolved Vehicle', 'Animals Action',\n",
    "                          'View Obstructed/Limited','Pedestrian/Bicyclist/Other Pedestrian Error/Confusion',\n",
    "                           'Glare','Vehicle Vandalism']\n",
    "    bad_road_infrastructure = ['Pavement Slippery', 'Obstruction/Debris','Pavement Defective',\n",
    "                               'Other Lighting Defects']\n",
    "    car_failures = ['Brakes Defective', 'Steering Failure', 'Tire Failure/Inadequate',\n",
    "                    'Traffic Control Device Improper/Non-Working', 'Lane Marking Improper/Inadequate',\n",
    "                    'Tow Hitch Defective','Headlights Defective', 'Shoulders Defective/Improper',\n",
    "                    'Windshield Inadequate']\n",
    "    medical = ['Lost Consciousness', 'Illnes','Accelerator Defective','Physical Disability','Prescription Medication']\n",
    "    if factor in medical:\n",
    "        return \"medical\"\n",
    "    elif factor in car_failures:\n",
    "        return \"car_failure\"\n",
    "    elif factor in bad_road_infrastructure:\n",
    "        return \"bad_road_infrastructure\"\n",
    "    elif factor in other_involvement:\n",
    "        return \"other_involvement\"\n",
    "    elif factor in illegal_action:\n",
    "        return \"illegal_action\"\n",
    "    elif factor in driver_mistake:\n",
    "        return \"driver_mistake\"\n",
    "    elif factor in distraction:\n",
    "        return \"distraction\"\n",
    "\n",
    "nyc_crashes[\"factor1\"] = nyc_crashes[\"contributing_factor_vehicle_1\"].apply(lambda x: narrowing_down_factor(x))\n",
    "nyc_crashes[\"factor2\"] = nyc_crashes[\"contributing_factor_vehicle_2\"].apply(lambda x: narrowing_down_factor(x))\n",
    "nyc_crashes[\"factor3\"] = nyc_crashes[\"contributing_factor_vehicle_3\"].apply(lambda x: narrowing_down_factor(x))\n",
    "nyc_crashes[\"factor4\"] = nyc_crashes[\"contributing_factor_vehicle_4\"].apply(lambda x: narrowing_down_factor(x))\n",
    "nyc_crashes[\"factor5\"] = nyc_crashes[\"contributing_factor_vehicle_5\"].apply(lambda x: narrowing_down_factor(x))"
   ],
   "metadata": {
    "collapsed": false,
    "pycharm": {
     "name": "#%%\n"
    }
   }
  },
  {
   "cell_type": "markdown",
   "source": [
    "Double checking for errors"
   ],
   "metadata": {
    "collapsed": false,
    "pycharm": {
     "name": "#%% md\n"
    }
   }
  },
  {
   "cell_type": "code",
   "execution_count": 358,
   "outputs": [
    {
     "name": "stdout",
     "output_type": "stream",
     "text": [
      "23464\n",
      "79644\n",
      "90959\n",
      "91328\n",
      "91405\n"
     ]
    }
   ],
   "source": [
    "print(nyc_crashes[\"factor1\"].isna().sum())\n",
    "print(nyc_crashes[\"factor2\"].isna().sum())\n",
    "print(nyc_crashes[\"factor3\"].isna().sum())\n",
    "print(nyc_crashes[\"factor4\"].isna().sum())\n",
    "print(nyc_crashes[\"factor5\"].isna().sum())"
   ],
   "metadata": {
    "collapsed": false,
    "pycharm": {
     "name": "#%%\n"
    }
   }
  },
  {
   "cell_type": "markdown",
   "source": [
    "\"Hot 'n coding\" the factor columns for each car."
   ],
   "metadata": {
    "collapsed": false,
    "pycharm": {
     "name": "#%% md\n"
    }
   }
  },
  {
   "cell_type": "code",
   "execution_count": 359,
   "outputs": [],
   "source": [
    "nyc_crashes[\"factor1\"] = pd.get_dummies(nyc_crashes[\"factor1\"], prefix=\"1_\")\n",
    "nyc_crashes[\"factor2\"] = pd.get_dummies(nyc_crashes[\"factor2\"], prefix=\"2_\")\n",
    "nyc_crashes[\"factor3\"] = pd.get_dummies(nyc_crashes[\"factor3\"], prefix=\"3_\")\n",
    "nyc_crashes[\"factor4\"] = pd.get_dummies(nyc_crashes[\"factor4\"], prefix=\"4_\")\n",
    "nyc_crashes[\"factor5\"] = pd.get_dummies(nyc_crashes[\"factor5\"], prefix=\"5_\")"
   ],
   "metadata": {
    "collapsed": false,
    "pycharm": {
     "name": "#%%\n"
    }
   }
  },
  {
   "cell_type": "markdown",
   "source": [
    "Flattening the factors of every car together."
   ],
   "metadata": {
    "collapsed": false,
    "pycharm": {
     "name": "#%% md\n"
    }
   }
  },
  {
   "cell_type": "code",
   "execution_count": 360,
   "outputs": [],
   "source": [
    "nyc_crashes = nyc_crashes.drop(columns=['contributing_factor_vehicle_1', 'contributing_factor_vehicle_2',\n",
    "       'contributing_factor_vehicle_3', 'contributing_factor_vehicle_4',\n",
    "       'contributing_factor_vehicle_5'])\n",
    "nyc_crashes_lst = nyc_crashes.columns"
   ],
   "metadata": {
    "collapsed": false,
    "pycharm": {
     "name": "#%%\n"
    }
   }
  },
  {
   "cell_type": "markdown",
   "source": [
    "sum_column = df[\"col1\"] + df[\"col2\"]"
   ],
   "metadata": {
    "collapsed": false,
    "pycharm": {
     "name": "#%% md\n"
    }
   }
  },
  {
   "cell_type": "code",
   "execution_count": 361,
   "outputs": [],
   "source": [
    "def adding_columns(common_column_name: str):\n",
    "    name = []\n",
    "    for column in nyc_crashes_lst:\n",
    "\n",
    "        if column.endswith(common_column_name):\n",
    "            name.append(column)\n",
    "    return name\n",
    "\n"
   ],
   "metadata": {
    "collapsed": false,
    "pycharm": {
     "name": "#%%\n"
    }
   }
  },
  {
   "cell_type": "code",
   "execution_count": 362,
   "outputs": [],
   "source": [
    "nyc_crashes[\"bad_road_infrastructure\"] = nyc_crashes[adding_columns(\"bad_road_infrastructure\")].sum(axis=1)\n",
    "nyc_crashes[\"car_failure\"] = nyc_crashes[adding_columns(\"car_failure\")].sum(axis=1)\n",
    "nyc_crashes[\"distraction\"] = nyc_crashes[adding_columns(\"distraction\")].sum(axis=1)\n",
    "nyc_crashes[\"driver_mistake\"] = nyc_crashes[adding_columns(\"driver_mistake\")].sum(axis=1)\n",
    "nyc_crashes[\"illegal_action\"] = nyc_crashes[adding_columns(\"illegal_action\")].sum(axis=1)\n",
    "nyc_crashes[\"medical\"] = nyc_crashes[adding_columns(\"medical\")].sum(axis=1)\n",
    "nyc_crashes[\"other_involvement\"] = nyc_crashes[adding_columns(\"other_involvement\")].sum(axis=1)"
   ],
   "metadata": {
    "collapsed": false,
    "pycharm": {
     "name": "#%%\n"
    }
   }
  },
  {
   "cell_type": "code",
   "execution_count": 367,
   "outputs": [
    {
     "name": "stdout",
     "output_type": "stream",
     "text": [
      "0.0    91442\n",
      "Name: medical, dtype: int64\n"
     ]
    }
   ],
   "source": [
    "print(nyc_crashes[\"medical\"].value_counts())"
   ],
   "metadata": {
    "collapsed": false,
    "pycharm": {
     "name": "#%%\n"
    }
   }
  },
  {
   "cell_type": "code",
   "execution_count": 363,
   "outputs": [],
   "source": [],
   "metadata": {
    "collapsed": false,
    "pycharm": {
     "name": "#%%\n"
    }
   }
  }
 ],
 "metadata": {
  "kernelspec": {
   "display_name": "Python 3",
   "language": "python",
   "name": "python3"
  },
  "language_info": {
   "codemirror_mode": {
    "name": "ipython",
    "version": 2
   },
   "file_extension": ".py",
   "mimetype": "text/x-python",
   "name": "python",
   "nbconvert_exporter": "python",
   "pygments_lexer": "ipython2",
   "version": "2.7.6"
  }
 },
 "nbformat": 4,
 "nbformat_minor": 0
}