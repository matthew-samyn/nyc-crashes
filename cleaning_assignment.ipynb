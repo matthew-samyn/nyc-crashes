{
 "cells": [
  {
   "cell_type": "markdown",
   "metadata": {
    "collapsed": true,
    "pycharm": {
     "name": "#%% md\n"
    }
   },
   "source": [
    "Importing necessary libraries"
   ]
  },
  {
   "cell_type": "code",
   "execution_count": 36,
   "outputs": [],
   "source": [
    "import pandas as pd\n",
    "import numpy as np"
   ],
   "metadata": {
    "collapsed": false,
    "pycharm": {
     "name": "#%%\n"
    }
   }
  },
  {
   "cell_type": "markdown",
   "source": [
    "Setting up DataFrame."
   ],
   "metadata": {
    "collapsed": false
   }
  },
  {
   "cell_type": "code",
   "execution_count": 37,
   "outputs": [
    {
     "name": "stdout",
     "output_type": "stream",
     "text": [
      "(100000, 29)\n"
     ]
    }
   ],
   "source": [
    "nyc_crashes = pd.read_csv(\"original-crashes.csv\")\n",
    "print(nyc_crashes.shape)"
   ],
   "metadata": {
    "collapsed": false,
    "pycharm": {
     "name": "#%%\n"
    }
   }
  },
  {
   "cell_type": "markdown",
   "source": [
    "Starting new DataFrame: nyc_crashes_basics\n",
    "Dropping columns I deem useless for this ML-algorithm."
   ],
   "metadata": {
    "collapsed": false
   }
  },
  {
   "cell_type": "code",
   "execution_count": 38,
   "outputs": [],
   "source": [
    "to_drop = \\\n",
    "    [\"borough\",\"zip_code\",\"location\",\"on_street_name\",\n",
    "     \"off_street_name\",\"cross_street_name\", \"number_of_pedestrians_injured\",\n",
    "     \"number_of_pedestrians_killed\", \"number_of_cyclist_injured\",\n",
    "     \"number_of_cyclist_killed\", \"number_of_motorist_injured\",\n",
    "     \"number_of_motorist_killed\",\"contributing_factor_vehicle_1\",\n",
    "     \"contributing_factor_vehicle_2\", \"contributing_factor_vehicle_3\",\n",
    "     \"contributing_factor_vehicle_4\",\"contributing_factor_vehicle_5\",\n",
    "     \"collision_id\",\"vehicle_type_code1\",\"vehicle_type_code2\",\n",
    "     \"vehicle_type_code_3\",\"vehicle_type_code_4\",\"vehicle_type_code_5\"]\n",
    "\n",
    "nyc_crashes_basics = nyc_crashes.drop(columns=to_drop)"
   ],
   "metadata": {
    "collapsed": false,
    "pycharm": {
     "name": "#%%\n"
    }
   }
  },
  {
   "cell_type": "markdown",
   "source": [
    "Exploring DataFrame \"nyc_crashes_basics\""
   ],
   "metadata": {
    "collapsed": false
   }
  },
  {
   "cell_type": "code",
   "execution_count": 39,
   "outputs": [
    {
     "name": "stdout",
     "output_type": "stream",
     "text": [
      "Index(['crash_date', 'crash_time', 'latitude', 'longitude',\n",
      "       'number_of_persons_injured', 'number_of_persons_killed'],\n",
      "      dtype='object')\n",
      "crash_date                      0\n",
      "crash_time                      0\n",
      "latitude                     8035\n",
      "longitude                    8035\n",
      "number_of_persons_injured       0\n",
      "number_of_persons_killed        0\n",
      "dtype: int64\n",
      "crash_date                    object\n",
      "crash_time                    object\n",
      "latitude                     float64\n",
      "longitude                    float64\n",
      "number_of_persons_injured      int64\n",
      "number_of_persons_killed       int64\n",
      "dtype: object\n"
     ]
    }
   ],
   "source": [
    "print(nyc_crashes_basics.columns)\n",
    "print(nyc_crashes_basics.isna().sum())\n",
    "print(nyc_crashes_basics.dtypes)"
   ],
   "metadata": {
    "collapsed": false,
    "pycharm": {
     "name": "#%%\n"
    }
   }
  },
  {
   "cell_type": "code",
   "execution_count": 40,
   "outputs": [
    {
     "name": "stdout",
     "output_type": "stream",
     "text": [
      "                crash_date crash_time   latitude  longitude  number_of_persons_injured  number_of_persons_killed\n",
      "0  2017-04-18T00:00:00.000      23:10  40.536728 -74.193344                          0                         0\n"
     ]
    }
   ],
   "source": [
    "print(nyc_crashes_basics.head(1).to_string())"
   ],
   "metadata": {
    "collapsed": false,
    "pycharm": {
     "name": "#%%\n"
    }
   }
  },
  {
   "cell_type": "markdown",
   "source": [
    "Feature slicing crash_date into [\"day\", \"month\", \"year\"]"
   ],
   "metadata": {
    "collapsed": false,
    "pycharm": {
     "name": "#%% md\n"
    }
   }
  },
  {
   "cell_type": "code",
   "execution_count": 41,
   "outputs": [
    {
     "name": "stdout",
     "output_type": "stream",
     "text": [
      "                 day          month           year\n",
      "count  100000.000000  100000.000000  100000.000000\n",
      "mean       16.336260       7.022990    2019.378560\n",
      "std         8.959698       1.828326       0.779332\n",
      "min         1.000000       2.000000    2013.000000\n",
      "25%         8.000000       6.000000    2019.000000\n",
      "50%        17.000000       7.000000    2020.000000\n",
      "75%        24.000000       8.000000    2020.000000\n",
      "max        31.000000      12.000000    2020.000000\n"
     ]
    }
   ],
   "source": [
    "# Function for the apply-method\n",
    "def splitting_date(date):\n",
    "    date = date.split(sep=\"T\")\n",
    "    date_lst = date[0].split(sep=\"-\")\n",
    "    day = int(date_lst[2])\n",
    "    month = int(date_lst[1])\n",
    "    year = int(date_lst[0])\n",
    "    return day, month, year\n",
    "\n",
    "nyc_crashes_basics[\"day\"], nyc_crashes_basics[\"month\"], nyc_crashes_basics[\"year\"] \\\n",
    "    = zip(*nyc_crashes[\"crash_date\"].apply(lambda x: splitting_date(x)))\n",
    "\n",
    "# Checking if the new columns have the correct min-max\n",
    "print(nyc_crashes_basics[[\"day\",\"month\",\"year\"]].describe())\n",
    "\n",
    "# Dropping \"crash_date\" column.\n",
    "nyc_crashes_basics = nyc_crashes_basics.drop(columns=[\"crash_date\"])\n",
    "\n",
    "# Bringing new columns to the front\n",
    "cols_to_move = [\"day\", \"month\",\"year\"]\n",
    "nyc_crashes_basics = nyc_crashes_basics[cols_to_move + [col for col in nyc_crashes_basics.columns if col not in cols_to_move]]"
   ],
   "metadata": {
    "collapsed": false,
    "pycharm": {
     "name": "#%%\n"
    }
   }
  },
  {
   "cell_type": "markdown",
   "source": [
    "\"crash_time\" to type: int.\n",
    "Keeping just the hour."
   ],
   "metadata": {
    "collapsed": false,
    "pycharm": {
     "name": "#%% md\n"
    }
   }
  },
  {
   "cell_type": "code",
   "execution_count": 42,
   "outputs": [
    {
     "name": "stdout",
     "output_type": "stream",
     "text": [
      "17    7128\n",
      "16    7033\n",
      "14    6723\n",
      "15    6302\n",
      "18    6150\n",
      "13    5978\n",
      "12    5524\n",
      "11    5041\n",
      "19    4878\n",
      "10    4670\n",
      "9     4545\n",
      "8     4405\n",
      "20    4255\n",
      "0     4139\n",
      "21    3927\n",
      "22    3639\n",
      "23    3151\n",
      "7     2832\n",
      "6     2127\n",
      "1     2024\n",
      "2     1549\n",
      "5     1384\n",
      "3     1327\n",
      "4     1269\n",
      "Name: crash_time, dtype: int64\n"
     ]
    }
   ],
   "source": [
    "nyc_crashes_basics[\"crash_time\"] \\\n",
    "    = nyc_crashes_basics[\"crash_time\"].apply(lambda x: int(x.split(sep=\":\")[0]))\n",
    "print(nyc_crashes_basics.crash_time.value_counts())"
   ],
   "metadata": {
    "collapsed": false,
    "pycharm": {
     "name": "#%%\n"
    }
   }
  },
  {
   "cell_type": "markdown",
   "source": [
    "Checking for rows that contains NaN's."
   ],
   "metadata": {
    "collapsed": false,
    "pycharm": {
     "name": "#%% md\n"
    }
   }
  },
  {
   "cell_type": "code",
   "execution_count": 43,
   "outputs": [
    {
     "name": "stdout",
     "output_type": "stream",
     "text": [
      "day                             0\n",
      "month                           0\n",
      "year                            0\n",
      "crash_time                      0\n",
      "latitude                     8035\n",
      "longitude                    8035\n",
      "number_of_persons_injured       0\n",
      "number_of_persons_killed        0\n",
      "dtype: int64\n"
     ]
    }
   ],
   "source": [
    "print(nyc_crashes_basics.isna().sum())"
   ],
   "metadata": {
    "collapsed": false,
    "pycharm": {
     "name": "#%%\n"
    }
   }
  },
  {
   "cell_type": "markdown",
   "source": [
    "Dropping rows where the columns \"longitude\", and \"latitude\" contain NaN\"s."
   ],
   "metadata": {
    "collapsed": false,
    "pycharm": {
     "name": "#%% md\n"
    }
   }
  },
  {
   "cell_type": "code",
   "execution_count": 44,
   "outputs": [],
   "source": [
    "nyc_crashes_basics = nyc_crashes_basics.dropna(subset=[\"latitude\",\"longitude\"],how=\"all\")"
   ],
   "metadata": {
    "collapsed": false,
    "pycharm": {
     "name": "#%%\n"
    }
   }
  },
  {
   "cell_type": "markdown",
   "source": [
    "Dropping rows where the columns \"longitude\", and \"latitude\" contain same values."
   ],
   "metadata": {
    "collapsed": false,
    "pycharm": {
     "name": "#%% md\n"
    }
   }
  },
  {
   "cell_type": "code",
   "execution_count": 46,
   "outputs": [
    {
     "name": "stdout",
     "output_type": "stream",
     "text": [
      "day                          0\n",
      "month                        0\n",
      "year                         0\n",
      "crash_time                   0\n",
      "latitude                     0\n",
      "longitude                    0\n",
      "number_of_persons_injured    0\n",
      "number_of_persons_killed     0\n",
      "dtype: int64\n",
      "(91965, 8)\n",
      "(169, 8)\n",
      "(169, 8)\n",
      "(91796, 8)\n"
     ]
    }
   ],
   "source": [
    "print(nyc_crashes_basics.isna().sum())\n",
    "print(nyc_crashes_basics.shape)\n",
    "print(nyc_crashes_basics[nyc_crashes_basics[\"longitude\"] == 0].shape)\n",
    "print(nyc_crashes_basics[nyc_crashes_basics[\"latitude\"] == 0].shape)\n",
    "nyc_crashes_basics = nyc_crashes_basics[nyc_crashes_basics[\"longitude\"] != nyc_crashes_basics[\"latitude\"]]\n",
    "print(nyc_crashes_basics.shape)"
   ],
   "metadata": {
    "collapsed": false,
    "pycharm": {
     "name": "#%%\n"
    }
   }
  },
  {
   "cell_type": "code",
   "execution_count": 56,
   "outputs": [
    {
     "name": "stdout",
     "output_type": "stream",
     "text": [
      "                     number_of_persons_injured  number_of_persons_killed\n",
      "longitude latitude                                                      \n",
      "-73.86536 40.651863                         39                         0\n",
      "-73.82226 40.664960                         39                         0\n",
      "-73.91282 40.861862                         36                         0\n",
      "-73.90905 40.862680                         27                         0\n",
      "-73.76736 40.656160                         27                         2\n",
      "                     number_of_persons_injured  number_of_persons_killed\n",
      "longitude latitude                                                      \n",
      "-73.90059 40.589930                          8                         3\n",
      "-73.99281 40.742900                          3                         2\n",
      "-73.97554 40.798060                          0                         2\n",
      "-73.90091 40.811428                          1                         2\n",
      "-73.89702 40.640373                          8                         2\n"
     ]
    }
   ],
   "source": [
    "group_long_lat = nyc_crashes_basics.groupby([\"longitude\",\"latitude\"])[[\"number_of_persons_injured\",\"number_of_persons_killed\"]].sum()\n",
    "print(group_long_lat.nlargest(columns=\"number_of_persons_injured\", n=5))\n",
    "print(group_long_lat.nlargest(columns=\"number_of_persons_killed\", n=5))"
   ],
   "metadata": {
    "collapsed": false,
    "pycharm": {
     "name": "#%%\n"
    }
   }
  },
  {
   "cell_type": "code",
   "execution_count": null,
   "outputs": [],
   "source": [],
   "metadata": {
    "collapsed": false,
    "pycharm": {
     "name": "#%%\n"
    }
   }
  }
 ],
 "metadata": {
  "kernelspec": {
   "name": "build_central",
   "language": "python",
   "display_name": "3_9"
  },
  "language_info": {
   "codemirror_mode": {
    "name": "ipython",
    "version": 2
   },
   "file_extension": ".py",
   "mimetype": "text/x-python",
   "name": "python",
   "nbconvert_exporter": "python",
   "pygments_lexer": "ipython2",
   "version": "2.7.6"
  }
 },
 "nbformat": 4,
 "nbformat_minor": 0
}